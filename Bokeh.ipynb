{
 "cells": [
  {
   "cell_type": "markdown",
   "metadata": {},
   "source": [
    "# Bokeh \n",
    "\n",
    "### Bokeh is a library for interactive visualizations in Python. \n",
    "\n",
    "website : https://bokeh.pydata.org/en/latest/\n",
    "\n",
    "We will be creating an interactive visualisation with bokeh. Our data will be a subset of the Gapminder Data - population data. We will be trying to recreate the visualizations that Hans Rosling uses in his famous TED talk (https://www.youtube.com/watch?v=hVimVzgtD6w). "
   ]
  },
  {
   "cell_type": "code",
   "execution_count": null,
   "metadata": {},
   "outputs": [],
   "source": [
    "import bokeh\n",
    "import pandas as pd\n",
    "from vega_datasets import data"
   ]
  },
  {
   "cell_type": "code",
   "execution_count": null,
   "metadata": {},
   "outputs": [],
   "source": [
    "from bokeh.io import output_notebook, show\n",
    "from bokeh.plotting import figure"
   ]
  },
  {
   "cell_type": "markdown",
   "metadata": {
    "collapsed": true
   },
   "source": [
    "We will import more functions from bokeh "
   ]
  },
  {
   "cell_type": "code",
   "execution_count": null,
   "metadata": {},
   "outputs": [],
   "source": [
    "output_notebook()"
   ]
  },
  {
   "cell_type": "code",
   "execution_count": null,
   "metadata": {},
   "outputs": [],
   "source": [
    "gapminder = pd.DataFrame(data.gapminder())\n",
    "gapminder.head()"
   ]
  },
  {
   "cell_type": "code",
   "execution_count": null,
   "metadata": {},
   "outputs": [],
   "source": [
    "gapminder.loc[gapminder['year'] == 2000].head()"
   ]
  },
  {
   "cell_type": "markdown",
   "metadata": {},
   "source": [
    "Lets plot fertility on the x axis and life expectancy on the y axis"
   ]
  },
  {
   "cell_type": "code",
   "execution_count": null,
   "metadata": {},
   "outputs": [],
   "source": [
    "fertility = gapminder.loc[gapminder['year'] == 2000]['fertility']\n",
    "life = gapminder.loc[gapminder['year'] == 2000]['life_expect']\n",
    "\n",
    "grph = figure() # can adjust height\n",
    "grph.circle(x = fertility, y = life) # try cross, change color\n",
    "show(grph)"
   ]
  },
  {
   "cell_type": "markdown",
   "metadata": {},
   "source": [
    "The ColumnDataSource is the core of most Bokeh plots, providing the data that is visualized by the glyphs of the plot.  It's a mapping between column names and lists of data. The ColumnDataSource takes a data parameter which is a dict, with string column names as keys and lists (or arrays) of data values as values. "
   ]
  },
  {
   "cell_type": "code",
   "execution_count": null,
   "metadata": {},
   "outputs": [],
   "source": [
    "from bokeh.models import ColumnDataSource\n"
   ]
  },
  {
   "cell_type": "code",
   "execution_count": null,
   "metadata": {},
   "outputs": [],
   "source": [
    "country = gapminder.loc[gapminder['year'] == 2000]['country']"
   ]
  },
  {
   "cell_type": "code",
   "execution_count": null,
   "metadata": {},
   "outputs": [],
   "source": [
    "source = ColumnDataSource(dict(x=fertility,y=life, country = country))\n",
    "#print(source.column_names)\n",
    "#source.data"
   ]
  },
  {
   "cell_type": "code",
   "execution_count": null,
   "metadata": {},
   "outputs": [],
   "source": [
    "grph.circle(x = 'x', y = 'y', source =source)\n",
    "show(grph)"
   ]
  },
  {
   "cell_type": "code",
   "execution_count": null,
   "metadata": {},
   "outputs": [],
   "source": [
    "# use other columns in our data"
   ]
  },
  {
   "cell_type": "code",
   "execution_count": null,
   "metadata": {},
   "outputs": [],
   "source": [
    "from bokeh.models import HoverTool"
   ]
  },
  {
   "cell_type": "code",
   "execution_count": null,
   "metadata": {},
   "outputs": [],
   "source": [
    "hover = HoverTool(tooltips = '@country')\n",
    "tool_properties = [hover,\"pan,wheel_zoom,box_zoom,reset\"]\n",
    "grph = figure(tools = tool_properties, height = 300)\n",
    "grph.circle(x = 'x', y = 'y', source =source, color = 'teal')\n",
    "show(grph)"
   ]
  },
  {
   "cell_type": "markdown",
   "metadata": {},
   "source": [
    "To learn more about configuring plot tools - https://bokeh.pydata.org/en/latest/docs/user_guide/tools.html"
   ]
  },
  {
   "cell_type": "code",
   "execution_count": null,
   "metadata": {
    "scrolled": true
   },
   "outputs": [],
   "source": [
    "# map the size of the bubble to the population\n",
    "from bokeh.models import LinearInterpolator\n",
    "\n",
    "population = gapminder.loc[gapminder['year'] == 2000]['pop']\n",
    "source = ColumnDataSource(dict(x=fertility,y=life, country = country, size = population))\n",
    "\n",
    "hover = HoverTool(tooltips = '@country')\n",
    "tool_properties = [hover,\"pan,wheel_zoom,box_zoom,reset\"]\n",
    "grph = figure(tools = tool_properties, height = 300)\n",
    "\n",
    "grph.circle(x = 'x', y = 'y', size ='size', source =source, color = 'teal')\n",
    "\n",
    "show(grph)"
   ]
  },
  {
   "cell_type": "code",
   "execution_count": null,
   "metadata": {},
   "outputs": [],
   "source": [
    "# map the size of the bubble to the population\n",
    "from bokeh.models import LinearInterpolator\n",
    "\n",
    "population = gapminder.loc[gapminder['year'] == 2000]['pop']\n",
    "size_mapper = LinearInterpolator(x = [population.min(), population.max()], y = [5,50])\n",
    "\n",
    "source = ColumnDataSource(dict(x=fertility,y=life, country = country, population = population))\n",
    "\n",
    "hover = HoverTool(tooltips = [('Country','@country'),('Population','@population'),])\n",
    "tool_properties = [hover,\"pan,wheel_zoom,box_zoom,reset\"]\n",
    "\n",
    "grph = figure(tools = tool_properties, height = 300, title = 'Fertility and Life Expectancy')\n",
    "\n",
    "#can add transparancy with alpha =0.6\n",
    "grph.circle(x = 'x', y = 'y', size ={'field' : 'population', 'transform' :size_mapper}, alpha =0.6, source =source, color = 'teal') \n",
    "\n",
    "show(grph)"
   ]
  },
  {
   "cell_type": "code",
   "execution_count": null,
   "metadata": {},
   "outputs": [],
   "source": [
    "# countries colored by region \n",
    "from bokeh.models import LinearInterpolator, CategoricalColorMapper\n",
    "from bokeh.palettes import Spectral6, brewer\n",
    "\n",
    "region_values = list(gapminder.cluster.unique())\n",
    "region_values = [str(r) for r in region_values ]\n",
    "\n",
    "# Get the number of colors we'll need for the plot.\n",
    "colors = brewer[\"Spectral\"][len(gapminder.cluster.unique())]\n",
    "\n",
    "population = gapminder.loc[gapminder['year'] == 2000]['pop']\n",
    "region = gapminder.loc[gapminder['year'] == 2000]['cluster']\n",
    "\n",
    "size_mapper = LinearInterpolator(x = [population.min(), population.max()], y = [5,50])\n",
    "#color_mapper = CategoricalColorMapper(factors = region_values ,palette = Spectral6)\n",
    "color_mapper ={i: colors[i] for i in gapminder.cluster.unique()}\n",
    "\n",
    "\n",
    "# Create a list of colors for each value that we will be looking at.\n",
    "colors = [color_mapper[x] for x in gapminder.cluster]\n",
    "source = ColumnDataSource(dict(x=fertility,y=life, country = country, population = population, color = colors))\n",
    "\n",
    "hover = HoverTool(tooltips = [('Country','@country'),('Population','@population'),])\n",
    "tool_properties = [hover,\"pan,wheel_zoom,box_zoom,reset\"]\n",
    "grph = figure(tools = tool_properties, height = 300, title = 'Fertility and Life Expectancy')\n",
    "\n",
    "grph.circle(x = 'x', y = 'y', \n",
    "            color = 'color',\n",
    "            size ={'field' : 'population', 'transform' :size_mapper}, \n",
    "            alpha =0.6, \n",
    "            source =source) \n",
    "\n",
    "show(grph)"
   ]
  },
  {
   "cell_type": "code",
   "execution_count": null,
   "metadata": {},
   "outputs": [],
   "source": []
  },
  {
   "cell_type": "code",
   "execution_count": null,
   "metadata": {},
   "outputs": [],
   "source": []
  },
  {
   "cell_type": "code",
   "execution_count": null,
   "metadata": {},
   "outputs": [],
   "source": []
  },
  {
   "cell_type": "code",
   "execution_count": null,
   "metadata": {},
   "outputs": [],
   "source": []
  }
 ],
 "metadata": {
  "kernelspec": {
   "display_name": "Python 3",
   "language": "python",
   "name": "python3"
  },
  "language_info": {
   "codemirror_mode": {
    "name": "ipython",
    "version": 3
   },
   "file_extension": ".py",
   "mimetype": "text/x-python",
   "name": "python",
   "nbconvert_exporter": "python",
   "pygments_lexer": "ipython3",
   "version": "3.6.4"
  }
 },
 "nbformat": 4,
 "nbformat_minor": 2
}
